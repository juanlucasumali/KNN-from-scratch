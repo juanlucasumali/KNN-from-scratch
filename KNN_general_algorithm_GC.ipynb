{
  "nbformat": 4,
  "nbformat_minor": 0,
  "metadata": {
    "colab": {
      "name": "KNN_general_algorithm_GC.ipynb",
      "provenance": [],
      "collapsed_sections": [],
      "authorship_tag": "ABX9TyOez4mUa5e9FLk8S8/X1hup",
      "include_colab_link": true
    },
    "kernelspec": {
      "name": "python3",
      "display_name": "Python 3"
    },
    "language_info": {
      "name": "python"
    }
  },
  "cells": [
    {
      "cell_type": "markdown",
      "metadata": {
        "id": "view-in-github",
        "colab_type": "text"
      },
      "source": [
        "<a href=\"https://colab.research.google.com/github/juanlucasumali/KNN-from-scratch/blob/main/KNN_general_algorithm_GC.ipynb\" target=\"_parent\"><img src=\"https://colab.research.google.com/assets/colab-badge.svg\" alt=\"Open In Colab\"/></a>"
      ]
    },
    {
      "cell_type": "code",
      "execution_count": 1,
      "metadata": {
        "id": "Q0r99A7pXaeb"
      },
      "outputs": [],
      "source": [
        "# Steps:\n",
        "# 1. Calculate the Euclidian distances between an instance and the k nearest instances\n",
        "# 2. Order the distance values from least to greatest\n",
        "# 3. Identify the first k points\n",
        "# 4. Perform majority voting\n",
        "# 4. Classify the given feautre as the class with the most votes"
      ]
    },
    {
      "cell_type": "code",
      "source": [
        "from matplotlib import pyplot as plt\n",
        "import random\n",
        "\n",
        "# Just one function to predict\n",
        "\n",
        "class kNN:\n",
        "\n",
        "    # Initializes all the attributes of the kNN class.\n",
        "    def __init__(self, data_classified, data_unclassified):\n",
        "        self.data_classified = data_classified\n",
        "        self.data_unclassified = data_unclassified\n",
        "\n",
        "        self.input_variables = []\n",
        "        self.target_values = []\n",
        "\n",
        "        self.distance_target_pairs = []\n",
        "        self.sorted_pairs = []\n",
        "\n",
        "        self.k_nearest_neighbors = []\n",
        "        self.distances_from_unclassified = []\n",
        "\n",
        "        self.x_values = []\n",
        "        self.y_values = []\n",
        "\n",
        "        self.predicted_class = ''\n",
        "        self.kNN_mode = 0\n",
        "\n",
        "\n",
        "    # Copies the classified data's input variables into a seperate array.\n",
        "    def get_input_variables(self, target_value_index=-1):\n",
        "      # Since datasets usually reserve the last column for labels,\n",
        "      # the default value for the target value's index in a row is set to -1.\n",
        "      self.input_variables = []\n",
        "      self.target_values = []\n",
        "      for row in self.data_classified:\n",
        "        row_copy = row[:]\n",
        "        target_value = row_copy.pop(target_value_index)\n",
        "        self.input_variables.append(row_copy)\n",
        "        self.target_values.append(target_value)\n",
        "\n",
        "    # Creates a function to calculate the Euclidian distance between two vectors.\n",
        "    def calculate_euclidian_distance(self, vector1, vector2):\n",
        "      distance_squared = 0\n",
        "      for vector1_element, vector2_element in zip(vector1, vector2):\n",
        "        distance_squared += (vector1_element - vector2_element)**2\n",
        "      distance = distance_squared**0.5\n",
        "      return distance\n",
        "\n",
        "    # Calculates the Euclidian distance between the new data point and the\n",
        "    # already-classified data points.\n",
        "    def find_kNN(self):\n",
        "\n",
        "      # Appends the Euclidian distance values between the unclassified\n",
        "      # and classified vectors into an array.\n",
        "      for feature in self.input_variables:\n",
        "        distance = self.calculate_euclidian_distance(self.data_unclassified, feature)\n",
        "        self.distances_from_unclassified.append(distance)\n",
        "\n",
        "      # Creates a list of distance-target pairs for determining which class\n",
        "      # is represented the most in the top k nearest neighbors.\n",
        "      self.distance_target_pairs = []\n",
        "      for distance, target in zip(self.distances_from_unclassified, self.target_values):\n",
        "          pair = [distance, target]\n",
        "          self.distance_target_pairs.append(pair)\n",
        "\n",
        "      # Sorts the list of distance-target pairs in descending order with\n",
        "      # respect to distance.\n",
        "      self.sorted_pairs = sorted(self.distance_target_pairs)\n",
        "\n",
        "\n",
        "    # Predicts the classes of the unclassified data points through majority voting.\n",
        "    def make_prediction(self, k=1):\n",
        "      self.get_input_variables()\n",
        "      self.find_kNN()\n",
        "\n",
        "        # Appends the first k values of the sorted pairs list into another list.\n",
        "      limit = 0\n",
        "      for feature, target in self.sorted_pairs:\n",
        "          if limit >= k:\n",
        "              break\n",
        "          else:\n",
        "              self.k_nearest_neighbors.append(target)\n",
        "              limit += 1\n",
        "\n",
        "      # Finds the mode in the newly created list to predict the class.\n",
        "      self.kNN_mode = max(set(self.k_nearest_neighbors), key = self.k_nearest_neighbors.count)\n",
        "      if self.kNN_mode == 0:\n",
        "        self.predicted_class = 'red'\n",
        "      elif self.kNN_mode == 1.0:\n",
        "        self.predicted_class = 'green'\n",
        "      elif self.kNN_mode == 2.0:\n",
        "        self.predicted_class = 'blue'\n",
        "\n",
        "    # Plots the dateset with classes as different colours and the unclassified\n",
        "    # datapoint as grey.\n",
        "    def plot_dataset(self, feature):\n",
        "\n",
        "      # Plots the data with respect to either the sepal dimensions or the petal\n",
        "      # dimensions.\n",
        "      if feature == 'sepal':\n",
        "        self.plot_title = \"Iris Sepal Length vs Width\"\n",
        "        self.x_axis = 0\n",
        "        self.y_axis = 1\n",
        "        self.x_label = 'Sepal Length (cm)'\n",
        "        self.y_label = 'Speal Width (cm)'\n",
        "      if feature == 'petal':\n",
        "        self.plot_title = \"Iris Petal Length vs Width\"\n",
        "        self.x_axis = 2\n",
        "        self.y_axis = 3\n",
        "        self.x_label = 'Petal Length (cm)'\n",
        "        self.y_label = 'Petal Width (cm)'\n",
        "\n",
        "      self.x_values_0 = []\n",
        "      self.y_values_0 = []\n",
        "      self.x_values_1 = []\n",
        "      self.y_values_1 = []\n",
        "      self.x_values_2 = []\n",
        "      self.y_values_2 = []\n",
        "      for instance in self.data_classified:\n",
        "        if instance[-1] == 0:\n",
        "          self.x_values_0.append(instance[self.x_axis])\n",
        "          self.y_values_0.append(instance[self.y_axis])\n",
        "        elif instance[-1] == 1:\n",
        "          self.x_values_1.append(instance[self.x_axis])\n",
        "          self.y_values_1.append(instance[self.y_axis])\n",
        "        elif instance[-1] == 2:\n",
        "          self.x_values_2.append(instance[self.x_axis])\n",
        "          self.y_values_2.append(instance[self.y_axis])\n",
        "          \n",
        "      plt.scatter(self.x_values_0, self.y_values_0, c='red')\n",
        "      plt.scatter(self.x_values_1, self.y_values_1, c='green')\n",
        "      plt.scatter(self.x_values_2, self.y_values_2, c='blue')\n",
        "      plt.scatter(self.data_unclassified[self.x_axis], self.data_unclassified[self.y_axis], c='grey')\n",
        "      \n",
        "      plt.xlabel(self.x_label)\n",
        "      plt.ylabel(self.y_label)\n",
        "      plt.title(self.plot_title)\n",
        "      \n",
        "      plt.show()\n",
        "\n",
        "      self.plot_dataset_predicted()\n",
        "\n",
        "    # Plots the dateset with the unclassified datapoint labelled as the\n",
        "    # predicted class.\n",
        "    def plot_dataset_predicted(self):\n",
        "      plt.scatter(self.x_values_0, self.y_values_0, c='red')\n",
        "      plt.scatter(self.x_values_1, self.y_values_1, c='green')\n",
        "      plt.scatter(self.x_values_2, self.y_values_2, c='blue')\n",
        "      plt.scatter(self.data_unclassified[self.x_axis], self.data_unclassified[3], c=self.predicted_class)\n",
        "      \n",
        "      plt.xlabel(self.x_label)\n",
        "      plt.ylabel(self.y_label)\n",
        "      plt.title(self.plot_title)\n",
        "      \n",
        "      plt.show()"
      ],
      "metadata": {
        "id": "FBLD1fqGcCAO"
      },
      "execution_count": 19,
      "outputs": []
    },
    {
      "cell_type": "markdown",
      "source": [
        "Checking the algorithm's accuracy"
      ],
      "metadata": {
        "id": "pJczMkkUazv2"
      }
    },
    {
      "cell_type": "code",
      "source": [
        "import pandas as pd\n",
        "import numpy as np\n",
        "\n",
        "# Loads the csv data onto a Pandas dataframe\n",
        "iris_data = pd.read_csv('/content/Iris.csv.xls')\n",
        "\n",
        "# Converts stringed target values into ints\n",
        "numerify_targets = {\"Species\":     {\"Iris-setosa\": 0, \"Iris-versicolor\": 1, \"Iris-virginica\": 2}}\n",
        "iris_data = iris_data.replace(numerify_targets)\n",
        "\n",
        "# Drops the ID feature\n",
        "iris_data = iris_data.drop(columns='Id', axis=1)\n",
        "\n",
        "# Converts pandas dataframe into list\n",
        "iris_data_list = iris_data.values.tolist()\n",
        "\n",
        "# # Test\n",
        "data_classified_1 = iris_data_list\n",
        "data_unclassified_1 = [6.3, 2.5, 5.0, 1.9]\n",
        "\n",
        "# Test\n",
        "dataset_1 = kNN(data_classified_1, data_unclassified_1)\n",
        "dataset_1.make_prediction(5)\n",
        "\n",
        "# PLOTTING\n",
        "dataset_1.plot_dataset('petal')\n",
        "\n",
        "# Test model accuracy\n",
        "def test_model_accuracy(database_list, k):\n",
        "  scores = []\n",
        "  for instance in database_list:\n",
        "    instance_copy = instance[:-1]\n",
        "    database_1 = kNN(database_list, instance_copy)\n",
        "    database_1.make_prediction(k)\n",
        "    if database_1.kNN_mode == instance[-1]:\n",
        "      scores.append(1)\n",
        "    elif database_1.kNN_mode != instance[-1]:\n",
        "      scores.append(0)\n",
        "  proportion_correct = scores.count(1) / len(scores)\n",
        "  return proportion_correct\n",
        "\n",
        "def optimal_k_value(database_list):\n",
        "  proportion_array = []\n",
        "  k_range = range(1, 21)\n",
        "  for k in k_range:\n",
        "    proportion_correct = test_model_accuracy(iris_data_list, k)\n",
        "    pair = [proportion_correct, k]\n",
        "    proportion_array.append(pair)\n",
        "  sorted_p_array = sorted(proportion_array, reverse=True)\n",
        "  return sorted_p_array[0][1]\n",
        "\n",
        "optimal_k = optimal_k_value(iris_data_list)\n",
        "test_model_accuracy(iris_data_list, optimal_k)\n",
        "\n",
        "# 1. Input database\n",
        "# 2. Iterates through each instance\n",
        "# 3. At each iteration, seperates the features and the targets\n",
        "# 4. Applies kNN to the features, compares to targets\n",
        "# 5. Returns the target and\n",
        "# 2. Create a function that determines the propotion of incorrect predictions\n"
      ],
      "metadata": {
        "colab": {
          "base_uri": "https://localhost:8080/",
          "height": 588
        },
        "id": "QV_QuiXbwpqm",
        "outputId": "ea01a9e4-0ed1-4e7c-fef8-7be7717c2b5b"
      },
      "execution_count": 18,
      "outputs": [
        {
          "output_type": "display_data",
          "data": {
            "text/plain": [
              "<Figure size 432x288 with 1 Axes>"
            ],
            "image/png": "[encoded data removed]"
          },
          "metadata": {
            "needs_background": "light"
          }
        },
        {
          "output_type": "display_data",
          "data": {
            "text/plain": [
              "<Figure size 432x288 with 1 Axes>"
            ],
            "image/png": "[encoded data removed]"
          },
          "metadata": {
            "needs_background": "light"
          }
        },
        {
          "output_type": "execute_result",
          "data": {
            "text/plain": [
              "1.0"
            ]
          },
          "metadata": {},
          "execution_count": 18
        }
      ]
    },
    {
      "cell_type": "markdown",
      "source": [
        "Comparing the model with sklearn"
      ],
      "metadata": {
        "id": "waZfUE5GujrV"
      }
    },
    {
      "cell_type": "code",
      "source": [
        "from sklearn.neighbors import KNeighborsClassifier\n",
        "from sklearn.model_selection import train_test_split\n",
        "from sklearn import metrics\n",
        "\n",
        "X = iris_data.drop(columns='Species', axis=1)\n",
        "Y = iris_data['Species']\n",
        "\n",
        "X_test, X_train, Y_test, Y_train = train_test_split(X, Y, test_size=0.2, stratify=Y, random_state=2)\n",
        "\n",
        "def optimal_k_value(X_test, X_train, Y_test, Y_train):\n",
        "  proportion_array = []\n",
        "  k_range = range(1, 21)\n",
        "  for k in k_range:\n",
        "    knn = KNeighborsClassifier(n_neighbors=k)\n",
        "    knn.fit(X_train, Y_train) # What does .fit do?\n",
        "    Y_pred = knn.predict(X_test) # What does .predict do?\n",
        "    pair = [metrics.accuracy_score(Y_test, Y_pred), k]\n",
        "    proportion_array.append(pair)\n",
        "  sorted_p_array = sorted(proportion_array, reverse=True)\n",
        "  return sorted_p_array[0][1]\n",
        "\n",
        "answer = optimal_k_value(X_test, X_train, Y_test, Y_train)\n",
        "print(answer)\n",
        "\n",
        "knn = KNeighborsClassifier(n_neighbors=1)\n",
        "knn.fit(X_train, Y_train)\n",
        "\n",
        "X_train_prediction = knn.predict(X_train)\n",
        "training_data_accuracy = metrics.accuracy_score(X_train_prediction, Y_train)\n",
        "\n",
        "print(training_data_accuracy)"
      ],
      "metadata": {
        "colab": {
          "base_uri": "https://localhost:8080/"
        },
        "id": "Q6pXO6MIuqfH",
        "outputId": "39bc6ebd-02d5-4fec-e0da-496f30e9f6a7"
      },
      "execution_count": 20,
      "outputs": [
        {
          "output_type": "stream",
          "name": "stdout",
          "text": [
            "1\n",
            "1.0\n"
          ]
        }
      ]
    }
  ]
}