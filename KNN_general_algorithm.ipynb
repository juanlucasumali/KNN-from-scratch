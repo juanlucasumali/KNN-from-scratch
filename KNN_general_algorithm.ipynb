{
 "cells": [
  {
   "cell_type": "code",
   "execution_count": 5,
   "id": "9b01a084",
   "metadata": {},
   "outputs": [
    {
     "name": "stdout",
     "output_type": "stream",
     "text": [
      "238.42399208133395\n"
     ]
    }
   ],
   "source": [
    "# Steps:\n",
    "# 1. Calculate the Euclidian distances between the unclassified data point \n",
    "#    and the k nearest classified datapoints\n",
    "# 2. Order the distance values from least to greatest\n",
    "# 3. Identify the first k points\n",
    "# 4. Perform majority voting\n",
    "# 5. Classify the data point as the same classs associated with the distance\n",
    "#    value with the most votes\n",
    "\n",
    "# Caluclating the Euclidian distance between two instances\n",
    "def euclidian_distance(instance1, instance2):\n",
    "  d_squared = 0\n",
    "  # Simultaneous loop with two variables iterating through pairwise tuples\n",
    "  for instance1_element, instance2_element in zip(instance1, instance2):\n",
    "    d_squared += (instance1_element - instance2_element)**2\n",
    "  d = d_squared**0.5\n",
    "  return d\n",
    "\n",
    "# Testing the eucilidian distance function\n",
    "person_1 = [1, 0, 62, 440]\n",
    "person_2 = [0, 0, 36, 203]\n",
    "answer = euclidian_distance(person_1, person_2)\n",
    "print(answer)"
   ]
  },
  {
   "cell_type": "code",
   "execution_count": null,
   "id": "68629890",
   "metadata": {},
   "outputs": [],
   "source": []
  }
 ],
 "metadata": {
  "kernelspec": {
   "display_name": "Python 3 (ipykernel)",
   "language": "python",
   "name": "python3"
  },
  "language_info": {
   "codemirror_mode": {
    "name": "ipython",
    "version": 3
   },
   "file_extension": ".py",
   "mimetype": "text/x-python",
   "name": "python",
   "nbconvert_exporter": "python",
   "pygments_lexer": "ipython3",
   "version": "3.9.7"
  }
 },
 "nbformat": 4,
 "nbformat_minor": 5
}
