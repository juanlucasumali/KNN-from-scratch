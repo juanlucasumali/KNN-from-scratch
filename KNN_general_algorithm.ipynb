{
 "cells": [
  {
   "cell_type": "code",
   "execution_count": 25,
   "id": "cb14aed6",
   "metadata": {},
   "outputs": [],
   "source": [
    "class kNN:\n",
    "\n",
    "    # Initialize all the attributes of the kNN class.\n",
    "    def __init__(self, data_classified, data_unclassified):\n",
    "        self.data_classified = data_classified\n",
    "        self.data_unclassified = data_unclassified\n",
    "        \n",
    "        self.input_variables = []\n",
    "        self.target_values = []\n",
    "\n",
    "        self.distance_target_pairs = []\n",
    "        self.sorted_pairs = []\n",
    "\n",
    "        self.k_nearest_neighbors = []\n",
    "        self.kNN_mode = 0\n",
    "\n",
    "        self.distances_from_unclassified = []\n",
    "\n",
    "\n",
    "    # Copy the classified data's input variables into a seperate array.\n",
    "    def get_input_variables(self, target_value_index=-1):\n",
    "      # Since datasets usually reserve the last column for labels,\n",
    "      # the default value for the target value's index in a row is set to -1.\n",
    "      self.input_variables = []\n",
    "      self.target_values = []\n",
    "      for row in self.data_classified:\n",
    "        row_copy = row[:]\n",
    "        target_value = row_copy.pop(target_value_index)\n",
    "        self.input_variables.append(row_copy)\n",
    "        self.target_values.append(target_value)\n",
    "  \n",
    "    # Create a function to calculate the Euclidian distance between two vectors.\n",
    "    def calculate_euclidian_distance(self, vector1, vector2):\n",
    "      distance_squared = 0\n",
    "      for vector1_element, vector2_element in zip(vector1, vector2):\n",
    "        distance_squared += (vector1_element - vector2_element)**2\n",
    "      distance = distance_squared**0.5\n",
    "      return distance\n",
    "\n",
    "    # Calculate the Euclidian distance between the new data point and the\n",
    "    # already-classified data points.\n",
    "    def find_kNN(self):\n",
    "      \n",
    "      # Append the Euclidian distance values between the unclassified\n",
    "      # and classified vectors into an array.\n",
    "      for feature in self.input_variables:\n",
    "        distance = self.calculate_euclidian_distance(self.data_unclassified, feature)\n",
    "        self.distances_from_unclassified.append(distance)\n",
    "      \n",
    "      # Create a list of distance-target pairs for determining which class\n",
    "      # is represented the most in the top k nearest neighbors.\n",
    "      distance_target_pairs = []\n",
    "      for distance, target in zip(self.distances_from_unclassified, self.target_values):\n",
    "          pair = [distance, target]\n",
    "          distance_target_pairs.append(pair)\n",
    "      \n",
    "      # Sort the list of distance-target pairs in descending order with\n",
    "      # respect to distance.\n",
    "      self.sorted_pairs = sorted(self.distance_target_pairs)\n",
    "    \n",
    "    \n",
    "    # Predict the classes of the unclassified data points through majority voting.\n",
    "    def make_prediction(self, k=3):\n",
    "        \n",
    "        # Append the first k values of the sorted pairs list into another list.\n",
    "        limit = 0\n",
    "        for feature, target in self.sorted_pairs:\n",
    "            if limit >= k:\n",
    "                break\n",
    "            else:\n",
    "                self.k_nearest_neighbors.append(target)\n",
    "                limit += 1\n",
    "        \n",
    "        # Find the mode in the newly created list to predict the class.\n",
    "        self.kNN_mode = max(set(self.k_nearest_neighbors), key = self.k_nearest_neighbors.count)\n"
   ]
  },
  {
   "cell_type": "code",
   "execution_count": 26,
   "id": "f144a1fa",
   "metadata": {},
   "outputs": [
    {
     "name": "stdout",
     "output_type": "stream",
     "text": [
      "[[1, 0, 73, 160], [1, 1, 16, 516], [1, 1, 12, 502]]\n",
      "[]\n",
      "[]\n"
     ]
    },
    {
     "ename": "ValueError",
     "evalue": "max() arg is an empty sequence",
     "output_type": "error",
     "traceback": [
      "\u001b[0;31m---------------------------------------------------------------------------\u001b[0m",
      "\u001b[0;31mValueError\u001b[0m                                Traceback (most recent call last)",
      "Input \u001b[0;32mIn [26]\u001b[0m, in \u001b[0;36m<cell line: 13>\u001b[0;34m()\u001b[0m\n\u001b[1;32m     11\u001b[0m \u001b[39mprint\u001b[39m(dataset_1\u001b[39m.\u001b[39msorted_pairs)\n\u001b[1;32m     12\u001b[0m \u001b[39mprint\u001b[39m(dataset_1\u001b[39m.\u001b[39mdistance_target_pairs)\n\u001b[0;32m---> 13\u001b[0m dataset_1\u001b[39m.\u001b[39;49mmake_prediction(\u001b[39m3\u001b[39;49m)\n\u001b[1;32m     14\u001b[0m \u001b[39mprint\u001b[39m(dataset_1\u001b[39m.\u001b[39mk_nearest_neighbors)\n\u001b[1;32m     15\u001b[0m \u001b[39mprint\u001b[39m(dataset_1\u001b[39m.\u001b[39mkNN_mode)\n",
      "\u001b[1;32m/Users/juanlucasumali/Desktop/111 Days of Code/KNN-from-scratch/KNN_general_algorithm.ipynb Cell 2'\u001b[0m in \u001b[0;36mkNN.make_prediction\u001b[0;34m(self, k)\u001b[0m\n\u001b[1;32m     <a href='vscode-notebook-cell:/Users/juanlucasumali/Desktop/111%20Days%20of%20Code/KNN-from-scratch/KNN_general_algorithm.ipynb#ch0000007?line=71'>72</a>\u001b[0m         limit \u001b[39m+\u001b[39m\u001b[39m=\u001b[39m \u001b[39m1\u001b[39m\n\u001b[1;32m     <a href='vscode-notebook-cell:/Users/juanlucasumali/Desktop/111%20Days%20of%20Code/KNN-from-scratch/KNN_general_algorithm.ipynb#ch0000007?line=73'>74</a>\u001b[0m \u001b[39m# Find the mode in the newly created list to predict the class.\u001b[39;00m\n\u001b[0;32m---> <a href='vscode-notebook-cell:/Users/juanlucasumali/Desktop/111%20Days%20of%20Code/KNN-from-scratch/KNN_general_algorithm.ipynb#ch0000007?line=74'>75</a>\u001b[0m \u001b[39mself\u001b[39m\u001b[39m.\u001b[39mkNN_mode \u001b[39m=\u001b[39m \u001b[39mmax\u001b[39;49m(\u001b[39mset\u001b[39;49m(\u001b[39mself\u001b[39;49m\u001b[39m.\u001b[39;49mk_nearest_neighbors), key \u001b[39m=\u001b[39;49m \u001b[39mself\u001b[39;49m\u001b[39m.\u001b[39;49mk_nearest_neighbors\u001b[39m.\u001b[39;49mcount)\n",
      "\u001b[0;31mValueError\u001b[0m: max() arg is an empty sequence"
     ]
    }
   ],
   "source": [
    "# Test\n",
    "data_unclassified_1 = [1, 0, 82, 140]\n",
    "data_classified_1 = [[1, 0, 73, 160, 0],\n",
    "                    [1, 1, 16, 516, 1],\n",
    "                    [1, 1, 12, 502, 1]]\n",
    "\n",
    "dataset_1 = kNN(data_classified_1, data_unclassified_1)\n",
    "dataset_1.get_input_variables()\n",
    "print(dataset_1.input_variables)\n",
    "dataset_1.find_kNN()\n",
    "print(dataset_1.sorted_pairs)\n",
    "print(dataset_1.distance_target_pairs)\n",
    "dataset_1.make_prediction(3)\n",
    "print(dataset_1.k_nearest_neighbors)\n",
    "print(dataset_1.kNN_mode)"
   ]
  }
 ],
 "metadata": {
  "kernelspec": {
   "display_name": "Python 3 (ipykernel)",
   "language": "python",
   "name": "python3"
  },
  "language_info": {
   "codemirror_mode": {
    "name": "ipython",
    "version": 3
   },
   "file_extension": ".py",
   "mimetype": "text/x-python",
   "name": "python",
   "nbconvert_exporter": "python",
   "pygments_lexer": "ipython3",
   "version": "3.10.0"
  }
 },
 "nbformat": 4,
 "nbformat_minor": 5
}
