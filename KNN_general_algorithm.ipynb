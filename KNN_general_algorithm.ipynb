{
 "cells": [
  {
   "cell_type": "code",
   "execution_count": 5,
   "id": "9b01a084",
   "metadata": {},
   "outputs": [
    {
     "name": "stdout",
     "output_type": "stream",
     "text": [
      "238.42399208133395\n"
     ]
    }
   ],
   "source": [
    "# Steps:\n",
    "# 1. Calculate the Euclidian distances between the unclassified data point \n",
    "#    and the k nearest classified datapoints\n",
    "# 2. Order the distance values from least to greatest\n",
    "# 3. Identify the first k points\n",
    "# 4. Perform majority voting\n",
    "# 5. Classify the data point as the same classs associated with the distance\n",
    "#    value with the most votes\n",
    "\n",
    "# Caluclating the Euclidian distance between two instances\n",
    "def euclidian_distance(instance1, instance2):\n",
    "  d_squared = 0\n",
    "  # Simultaneous loop with two variables iterating through pairwise tuples\n",
    "  for instance1_element, instance2_element in zip(instance1, instance2):\n",
    "    d_squared += (instance1_element - instance2_element)**2\n",
    "  d = d_squared**0.5\n",
    "  return d\n",
    "\n",
    "# Testing the eucilidian distance function\n",
    "person_1 = [1, 0, 62, 440]\n",
    "person_2 = [0, 0, 36, 203]\n",
    "answer = euclidian_distance(person_1, person_2)\n",
    "print(answer)"
   ]
  },
  {
   "cell_type": "code",
   "execution_count": 15,
   "id": "68629890",
   "metadata": {},
   "outputs": [],
   "source": [
    "# Copying the classified data's features into a seperate array.\n",
    "\n",
    "def data_classified_features(data_classified, target_value_index=-1):\n",
    "  # Since datasets usually reserve the last column for target values,\n",
    "  # the default value for the target value index is set to -1.\n",
    "  data_classified_features = []\n",
    "  data_classified_targets = []\n",
    "  for instance in data_classified:\n",
    "    instance_copy = instance[:]\n",
    "    target = instance_copy.pop(target_value_index)\n",
    "    data_classified_features.append(instance_copy)\n",
    "    data_classified_targets.append(target)\n",
    "\n",
    "  # Translating the features and targets into key-value pairs for later use\n",
    "  # in determining the class of the unknown data.\n",
    "  data_classified_associated = {}\n",
    "  for feature, target in zip(data_classified_features, data_classified_targets):\n",
    "        data_classified_associated[target] = feature\n",
    "\n",
    "  return data_classified_associated, data_classified_features"
   ]
  },
  {
   "cell_type": "code",
   "execution_count": 10,
   "id": "b945f222",
   "metadata": {},
   "outputs": [
    {
     "name": "stdout",
     "output_type": "stream",
     "text": [
      "[21.93171219946131, 368.70720090608484, 381.7499181401353]\n"
     ]
    }
   ],
   "source": [
    "# Calculating the Euclidian distance between the new data point and the\n",
    "# already-classified data points and ordering them according to distance.\n",
    "def d_from_unclassified_to_classified(data_unclassified, data_classified_features):\n",
    "  # For loop to append the Euclidian distance values between the unclassified\n",
    "  # features and classified features to an array.\n",
    "  d_array = []\n",
    "  for instance in data_classified_features:\n",
    "    d = euclidian_distance(data_unclassified, instance)\n",
    "    d_array.append(d)\n",
    "  sorted_d_array = sorted(d_array)\n",
    "  return sorted_d_array\n",
    "\n",
    "# Testing the above function\n",
    "data_unclassified_1 = [1, 0, 82, 140]\n",
    "data_classified_1 = [[1, 0, 73, 160, 0],\n",
    "                    [1, 1, 16, 516, 1],\n",
    "                    [1, 1, 12, 502, 1]]\n",
    "\n",
    "data_classified_1_features = data_classified_features(data_classified_1)\n",
    "\n",
    "answer = d_from_unclassified_to_classified(data_unclassified_1, data_classified_1_features)\n",
    "print(answer)"
   ]
  },
  {
   "cell_type": "code",
   "execution_count": 17,
   "id": "2c002149",
   "metadata": {},
   "outputs": [],
   "source": [
    "# Retreiving the classes of the k nearest neighbours and predicting\n",
    "# the class of the unclassified data using majority voting\n",
    "\n",
    "# Steps: \n",
    "# 1. Given the inputted value of k, retreive the target values from the \n",
    "#    k nearest neighbours. \n",
    "# 2. Identify the mode of the k nearest neighbour outputs and use that value \n",
    "#    to label the unclassified data. \n",
    "\n",
    "def kNN(k, data_unclassified, data_classified):\n",
    "  \n",
    "  sorted_d_array = d_from_unclassified_to_classified(data_unclassified, data_classified)\n",
    "\n",
    "\n",
    "  def data_unclassified_seperation(data_unclassified, data_classified, target_value_index=-1):\n",
    "  # Since datasets usually reserve the last column for target values,\n",
    "  # the default value for the target value index is set to -1.\n",
    "\n",
    "    data_classified_target_values = []\n",
    "    data_classified_features = []\n",
    "    for instance in data_classified:\n",
    "        instance_copy = instance[:]\n",
    "        target_value = instance_copy.pop(target_value_index)\n",
    "        data_classified_target_values.append(target_value)\n",
    "        data_classified_features.append(instance_copy)\n",
    "\n",
    "    return data_classified_target_values, data_classified_features"
   ]
  }
 ],
 "metadata": {
  "kernelspec": {
   "display_name": "Python 3 (ipykernel)",
   "language": "python",
   "name": "python3"
  },
  "language_info": {
   "codemirror_mode": {
    "name": "ipython",
    "version": 3
   },
   "file_extension": ".py",
   "mimetype": "text/x-python",
   "name": "python",
   "nbconvert_exporter": "python",
   "pygments_lexer": "ipython3",
   "version": "3.10.0"
  }
 },
 "nbformat": 4,
 "nbformat_minor": 5
}
